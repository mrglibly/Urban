{
 "cells": [
  {
   "cell_type": "code",
   "execution_count": 1,
   "metadata": {},
   "outputs": [],
   "source": [
    "from pprint import pprint\n",
    "import numpy as np\n",
    "\n",
    "class  Product:\n",
    "    \n",
    "    def __init__(self, name: str, weight: float, category: str):\n",
    "        self.name = name\n",
    "        self.weight = weight\n",
    "        self.category = category\n",
    "\n",
    "    def __str__(self):\n",
    "        print(f'{self.name},{self.wight},{self.category}')\n",
    "\n",
    "class Shop:\n",
    "    __file_name = 'products.txt'\n",
    "    \n",
    "    def __init__(self):\n",
    "        return None\n",
    "       \n",
    "    def __contains__(self, set):\n",
    "        return self in set\n",
    "    \n",
    "    def get_products(self):\n",
    "        report=[]\n",
    "        file = open(self.__file_name,'r')\n",
    "        report = file.read()\n",
    "        file.close()\n",
    "        return report\n",
    "        \n",
    "    def add(self, *products):\n",
    "        for i in products:\n",
    "            if i.name not in self.get_products():\n",
    "                file = open(self.__file_name, 'a')\n",
    "                file.write(f'{i.name}, {i.weight}, {i.category}\\n')\n",
    "                file.close()\n",
    "            else:\n",
    "                file = open(self.__file_name, 'r')\n",
    "                for line in file.readlines():\n",
    "                    if i.name in line:\n",
    "                        print(f'Продукт {i.name} уже был в магазине, общий вес теперь: {i.weight + float(line.split(\",\")[1])}')"
   ]
  },
  {
   "cell_type": "code",
   "execution_count": 2,
   "metadata": {},
   "outputs": [
    {
     "name": "stdout",
     "output_type": "stream",
     "text": [
      "Продукт Potato уже был в магазине, общий вес теперь: 56.0\n",
      "Potato, 50.5, Vegetables\n",
      "Spaghetti, 3.4, Groceries\n",
      "\n"
     ]
    }
   ],
   "source": [
    "s1 = Shop()\n",
    "p1 = Product('Potato', 50.5, 'Vegetables')\n",
    "p2 = Product('Spaghetti', 3.4, 'Groceries')\n",
    "p3 = Product('Potato', 5.5, 'Vegetables')\n",
    "s1.add(p1, p2, p3)\n",
    "print(s1.get_products())"
   ]
  }
 ],
 "metadata": {
  "kernelspec": {
   "display_name": "Python 3",
   "language": "python",
   "name": "python3"
  },
  "language_info": {
   "codemirror_mode": {
    "name": "ipython",
    "version": 3
   },
   "file_extension": ".py",
   "mimetype": "text/x-python",
   "name": "python",
   "nbconvert_exporter": "python",
   "pygments_lexer": "ipython3",
   "version": "3.9.10"
  }
 },
 "nbformat": 4,
 "nbformat_minor": 2
}
