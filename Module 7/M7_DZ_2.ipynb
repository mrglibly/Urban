{
 "cells": [
  {
   "cell_type": "code",
   "execution_count": 1,
   "metadata": {},
   "outputs": [],
   "source": [
    "def custom_write(file_name, strings):\n",
    "    dct = {}\n",
    "    counter=0\n",
    "    file = open(file_name,'w', encoding='utf-8')\n",
    "    for string in strings:\n",
    "        counter +=1\n",
    "        file.write(string+'\n')\n",
    "        dct[(counter, file.tell())] = string\n",
    "    \n",
    "    file.close()\n",
    "    return dct"
   ]
  },
  {
   "cell_type": "code",
   "execution_count": 2,
   "metadata": {},
   "outputs": [
    {
     "name": "stdout",
     "output_type": "stream",
     "text": [
      "((1, 14), 'Text for tell.')\n",
      "((2, 62), 'Используйте кодировку utf-8.')\n",
      "((3, 92), 'Because there are 2 languages!')\n",
      "((4, 107), 'Спасибо!')\n"
     ]
    }
   ],
   "source": [
    "info = [\n",
    "    'Text for tell.',\n",
    "    'Используйте кодировку utf-8.',\n",
    "    'Because there are 2 languages!',\n",
    "    'Спасибо!']\n",
    "\n",
    "result = custom_write('test.txt', info)\n",
    "\n",
    "for elem in result.items():\n",
    "    print(elem)"
   ]
  }
 ],
 "metadata": {
  "kernelspec": {
   "display_name": "Python 3",
   "language": "python",
   "name": "python3"
  },
  "language_info": {
   "codemirror_mode": {
    "name": "ipython",
    "version": 3
   },
   "file_extension": ".py",
   "mimetype": "text/x-python",
   "name": "python",
   "nbconvert_exporter": "python",
   "pygments_lexer": "ipython3",
   "version": "3.9.10"
  }
 },
 "nbformat": 4,
 "nbformat_minor": 2
}
