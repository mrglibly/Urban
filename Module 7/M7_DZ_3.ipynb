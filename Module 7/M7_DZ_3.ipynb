{
 "cells": [
  {
   "cell_type": "code",
   "execution_count": 1,
   "metadata": {},
   "outputs": [],
   "source": [
    "import numpy as np\n",
    "\n",
    "class WordsFinder:\n",
    "    file_names = []\n",
    "    \n",
    "    def __init__(self,*files):\n",
    "        self.files = files\n",
    "        \n",
    "        for file in self.files:\n",
    "            self.file_names.append(file)\n",
    "    \n",
    "    def get_all_words(self):\n",
    "        all_words = {}\n",
    "        punct = [',', '.', '=', '!', '?', ';', ':', ' - ']\n",
    "        for file in self.files:\n",
    "            with open(file, encoding='utf8') as text:\n",
    "                txt = text.read().lower()\n",
    "                for item in punct:\n",
    "                    txt = txt.replace(item,'')\n",
    "                all_words[file] = txt.split()\n",
    "        return all_words\n",
    "    \n",
    "    def find(self, word):\n",
    "        self.word = word\n",
    "        dct_fnd = {}\n",
    "        \n",
    "        for name, words in self.get_all_words().items():\n",
    "            counter = 0\n",
    "            for i in words:\n",
    "                if i == self.word.lower():\n",
    "                    counter +=1\n",
    "                    break\n",
    "                else:\n",
    "                    counter +=1\n",
    "                \n",
    "            if counter >= len(words):\n",
    "                dct_fnd[name] = 0\n",
    "            else:\n",
    "                dct_fnd[name] = counter\n",
    "        return dct_fnd\n",
    "        \n",
    "    def count(self, word):\n",
    "        self.word = word\n",
    "        dct_cnt = {}\n",
    "        \n",
    "        for name, words in self.get_all_words().items():\n",
    "            counter = 0\n",
    "            for i in words:\n",
    "                if self.word.lower() == i:\n",
    "                    counter += 1\n",
    "                else:\n",
    "                    continue\n",
    "            dct_cnt[name] = counter\n",
    "        return dct_cnt"
   ]
  },
  {
   "cell_type": "code",
   "execution_count": 9,
   "metadata": {},
   "outputs": [
    {
     "name": "stdout",
     "output_type": "stream",
     "text": [
      "{'test_file.txt': [\"it's\", 'a', 'text', 'for', 'task', 'найти', 'везде', 'используйте', 'его', 'для', 'самопроверки', 'успехов', 'в', 'решении', 'задачи', 'text', 'text', 'text']}\n",
      "{'test_file.txt': 3}\n",
      "{'test_file.txt': 4}\n"
     ]
    }
   ],
   "source": [
    "finder2 = WordsFinder('test_file.txt')\n",
    "\n",
    "print(finder2.get_all_words()) # Все слова\n",
    "\n",
    "print(finder2.find('TEXT')) # 3 слово по счёту\n",
    "\n",
    "print(finder2.count('teXT')) # 4 слова teXT в тексте всего"
   ]
  }
 ],
 "metadata": {
  "kernelspec": {
   "display_name": "Python 3",
   "language": "python",
   "name": "python3"
  },
  "language_info": {
   "codemirror_mode": {
    "name": "ipython",
    "version": 3
   },
   "file_extension": ".py",
   "mimetype": "text/x-python",
   "name": "python",
   "nbconvert_exporter": "python",
   "pygments_lexer": "ipython3",
   "version": "3.9.10"
  }
 },
 "nbformat": 4,
 "nbformat_minor": 2
}
