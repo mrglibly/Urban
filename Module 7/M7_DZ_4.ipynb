{
 "cells": [
  {
   "cell_type": "code",
   "execution_count": null,
   "metadata": {},
   "outputs": [],
   "source": [
    "team1_num = 5\n",
    "team2_num = 6\n",
    "score_1 = 40\n",
    "score_2 = 42\n",
    "team1_time = 1552.512\n",
    "team2_time = 2153.31451\n",
    "tasks_total = 82\n",
    "time_avg = 45.2\n",
    "challenge_result = 'Победа команды Волшебники данных!'"
   ]
  },
  {
   "cell_type": "markdown",
   "metadata": {},
   "source": [
    "### Использование %:"
   ]
  },
  {
   "cell_type": "code",
   "execution_count": 16,
   "metadata": {},
   "outputs": [
    {
     "name": "stdout",
     "output_type": "stream",
     "text": [
      "В команде Мастера кода участников: 5! \n",
      "Итого сегодня в командах участников: 5 и 6! \n"
     ]
    }
   ],
   "source": [
    "print(\"В команде Мастера кода участников: %(team1_num)s! \" % {'team1_num':5})\n",
    "print(\"Итого сегодня в командах участников: %(team1_num)s и %(team2_num)s! \" % {'team1_num':5,'team2_num':6})"
   ]
  },
  {
   "cell_type": "markdown",
   "metadata": {},
   "source": [
    "### Использование format():"
   ]
  },
  {
   "cell_type": "code",
   "execution_count": 2,
   "metadata": {},
   "outputs": [
    {
     "name": "stdout",
     "output_type": "stream",
     "text": [
      "Команда Волшебники данных решила задач: 42!\n",
      "Волшебники данных решили задачи за 18015.2 сек !\n"
     ]
    }
   ],
   "source": [
    "print(\"Команда Волшебники данных решила задач: {score_2}!\".format(score_2=42))\n",
    "print(\"Волшебники данных решили задачи за {team1_time} сек !\".format(team1_time=18015.2))"
   ]
  },
  {
   "cell_type": "markdown",
   "metadata": {},
   "source": [
    "### Использование f-строк:"
   ]
  },
  {
   "cell_type": "code",
   "execution_count": 17,
   "metadata": {},
   "outputs": [
    {
     "name": "stdout",
     "output_type": "stream",
     "text": [
      "Команды решили 40 и 42 задач.\n"
     ]
    }
   ],
   "source": [
    "print(f'Команды решили {score_1} и {score_2} задач.')"
   ]
  },
  {
   "cell_type": "code",
   "execution_count": 18,
   "metadata": {},
   "outputs": [
    {
     "name": "stdout",
     "output_type": "stream",
     "text": [
      "Результат битвы: Победа команды Волшебники данных!\n"
     ]
    }
   ],
   "source": [
    "print(f'Результат битвы: {challenge_result}')"
   ]
  },
  {
   "cell_type": "code",
   "execution_count": 19,
   "metadata": {},
   "outputs": [
    {
     "name": "stdout",
     "output_type": "stream",
     "text": [
      "Сегодня было решено 82 задач, в среднем по 45.2 секунды на задачу!\n"
     ]
    }
   ],
   "source": [
    "# tasks_total = 82\n",
    "# time_avg = 350.4\n",
    "print(f'Сегодня было решено {tasks_total} задач, в среднем по {time_avg} секунды на задачу!')"
   ]
  },
  {
   "cell_type": "code",
   "execution_count": 20,
   "metadata": {},
   "outputs": [],
   "source": [
    "if score_1 > score_2 or score_1 == score_2 and team1_time > team2_time:\n",
    "    result = 'Победа команды Мастера кода!'\n",
    "elif score_1 < score_2 or score_1 == score_2 and team1_time < team2_time:\n",
    "    result = 'Победа команды Волшебники Данных!'\n",
    "else:\n",
    "    result = 'Ничья!'"
   ]
  },
  {
   "cell_type": "code",
   "execution_count": 21,
   "metadata": {},
   "outputs": [
    {
     "data": {
      "text/plain": [
       "'Победа команды Волшебники Данных!'"
      ]
     },
     "execution_count": 21,
     "metadata": {},
     "output_type": "execute_result"
    }
   ],
   "source": [
    "result"
   ]
  }
 ],
 "metadata": {
  "kernelspec": {
   "display_name": "Python 3",
   "language": "python",
   "name": "python3"
  },
  "language_info": {
   "codemirror_mode": {
    "name": "ipython",
    "version": 3
   },
   "file_extension": ".py",
   "mimetype": "text/x-python",
   "name": "python",
   "nbconvert_exporter": "python",
   "pygments_lexer": "ipython3",
   "version": "3.9.10"
  }
 },
 "nbformat": 4,
 "nbformat_minor": 2
}
