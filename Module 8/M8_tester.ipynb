{
 "cells": [
  {
   "cell_type": "code",
   "execution_count": 26,
   "metadata": {},
   "outputs": [],
   "source": [
    "def add_everything_up(a,b):\n",
    "    try:\n",
    "        return a + b\n",
    "    except TypeError:\n",
    "        return str(a)+str(b)"
   ]
  },
  {
   "cell_type": "code",
   "execution_count": 28,
   "metadata": {},
   "outputs": [
    {
     "name": "stdout",
     "output_type": "stream",
     "text": [
      "123.456строка\n",
      "яблоко4215\n",
      "130.45600000000002\n"
     ]
    }
   ],
   "source": [
    "print(add_everything_up(123.456, 'строка'))\n",
    "print(add_everything_up('яблоко', 4215))\n",
    "print(add_everything_up(123.456, 7))"
   ]
  }
 ],
 "metadata": {
  "kernelspec": {
   "display_name": "Python 3",
   "language": "python",
   "name": "python3"
  },
  "language_info": {
   "codemirror_mode": {
    "name": "ipython",
    "version": 3
   },
   "file_extension": ".py",
   "mimetype": "text/x-python",
   "name": "python",
   "nbconvert_exporter": "python",
   "pygments_lexer": "ipython3",
   "version": "3.9.10"
  }
 },
 "nbformat": 4,
 "nbformat_minor": 2
}
