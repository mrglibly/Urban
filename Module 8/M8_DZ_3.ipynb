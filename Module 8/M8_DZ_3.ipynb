{
 "cells": [
  {
   "cell_type": "code",
   "execution_count": 1,
   "metadata": {},
   "outputs": [],
   "source": [
    "class  Car:\n",
    "    def __init__(self, model, __vin, __numbers):\n",
    "        self.model = model\n",
    "        self.__vin = __vin\n",
    "        self.__numbers = __numbers\n",
    "        self.__is_valid_vin(__vin)\n",
    "        self.__is_valid_numbers(__numbers)\n",
    "    \n",
    "    def __is_valid_vin(self, vin_number):\n",
    "        self.vin_number = vin_number\n",
    "        \n",
    "        if isinstance(self.vin_number, int) != True:\n",
    "            raise IncorrectVinNumber('Некорректный тип vin номер!')\n",
    "        \n",
    "        elif self.vin_number < 1000000 or self.vin_number > 9999999:\n",
    "            raise IncorrectVinNumber('Неверный диапазон для vin номера!')\n",
    "        \n",
    "        else:\n",
    "            return True\n",
    "    \n",
    "    def __is_valid_numbers(self, numbers):\n",
    "        self.numbers = numbers\n",
    "        \n",
    "        if isinstance(self.numbers, str) != True:\n",
    "            raise IncorrectCarNumbers('Некорректный тип данных для номеров!')\n",
    "        \n",
    "        elif len(numbers) != 6:\n",
    "            raise IncorrectCarNumbers('Неверная длина номера!')\n",
    "        \n",
    "        else:\n",
    "            return True\n",
    "\n",
    "class IncorrectVinNumber(Exception):\n",
    "    def __init__(self, message):\n",
    "        self.message = message\n",
    "    \n",
    "class IncorrectCarNumbers(Exception):\n",
    "    def __init__(self, message):\n",
    "        self.message = message"
   ]
  },
  {
   "cell_type": "code",
   "execution_count": 2,
   "metadata": {},
   "outputs": [
    {
     "name": "stdout",
     "output_type": "stream",
     "text": [
      "Model1 успешно создан\n",
      "Неверный диапазон для vin номера!\n",
      "Неверная длина номера!\n"
     ]
    }
   ],
   "source": [
    "try:\n",
    "  first = Car('Model1', 1000000, 'f123dj')\n",
    "except IncorrectVinNumber as exc:\n",
    "  print(exc.message)\n",
    "except IncorrectCarNumbers as exc:\n",
    "  print(exc.message)\n",
    "else:\n",
    "  print(f'{first.model} успешно создан')\n",
    "\n",
    "\n",
    "try:\n",
    "  second = Car('Model2', 300, 'т001тр')\n",
    "except IncorrectVinNumber as exc:\n",
    "  print(exc.message)\n",
    "except IncorrectCarNumbers as exc:\n",
    "  print(exc.message)\n",
    "else:\n",
    "  print(f'{second.model} успешно создан')\n",
    "\n",
    "\n",
    "try:\n",
    "  third = Car('Model3', 2020202, 'нет номера')\n",
    "except IncorrectVinNumber as exc:\n",
    "  print(exc.message)\n",
    "except IncorrectCarNumbers as exc:\n",
    "  print(exc.message)\n",
    "else:\n",
    "  print(f'{third.model} успешно создан')"
   ]
  }
 ],
 "metadata": {
  "kernelspec": {
   "display_name": "Python 3",
   "language": "python",
   "name": "python3"
  },
  "language_info": {
   "codemirror_mode": {
    "name": "ipython",
    "version": 3
   },
   "file_extension": ".py",
   "mimetype": "text/x-python",
   "name": "python",
   "nbconvert_exporter": "python",
   "pygments_lexer": "ipython3",
   "version": "3.9.10"
  }
 },
 "nbformat": 4,
 "nbformat_minor": 2
}
