{
 "cells": [
  {
   "cell_type": "code",
   "execution_count": null,
   "metadata": {},
   "outputs": [],
   "source": [
    "def add_everything_up(a,b):\n",
    "    try:\n",
    "        return a + b\n",
    "    except TypeError:\n",
    "        return str(a)+str(b)"
   ]
  },
  {
   "cell_type": "code",
   "execution_count": null,
   "metadata": {},
   "outputs": [],
   "source": [
    "print(add_everything_up(123.456, 'строка'))\n",
    "print(add_everything_up('яблоко', 4215))\n",
    "print(add_everything_up(123.456, 7))"
   ]
  }
 ],
 "metadata": {
  "language_info": {
   "name": "python"
  }
 },
 "nbformat": 4,
 "nbformat_minor": 2
}
