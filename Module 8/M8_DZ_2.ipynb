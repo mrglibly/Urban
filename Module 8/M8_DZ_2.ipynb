{
 "cells": [
  {
   "cell_type": "code",
   "execution_count": 3,
   "metadata": {},
   "outputs": [],
   "source": [
    "\n",
    "def personal_sum(numbers):\n",
    "    result = 0\n",
    "    incorrect_data = 0\n",
    "\n",
    "    for i in numbers:\n",
    "        try:\n",
    "            result +=i\n",
    "    \n",
    "        except TypeError:\n",
    "            print(f'Некорректный тип данных для подсчёта суммы - {i}')\n",
    "            incorrect_data +=1\n",
    "\n",
    "    return (result, incorrect_data)\n",
    "    \n",
    "def calculate_average(numbers):\n",
    "    try:\n",
    "        avg = personal_sum(numbers)[0] / len(numbers)\n",
    "    \n",
    "    except TypeError:\n",
    "        print('В numbers записан некорректный тип данных')\n",
    "        return None\n",
    "        \n",
    "    except ZeroDivisionError:\n",
    "        print('Это - попытка невозможного - деления на Ноль!')\n",
    "        return 0\n",
    "    \n",
    "    return avg\n"
   ]
  },
  {
   "cell_type": "code",
   "execution_count": 4,
   "metadata": {},
   "outputs": [
    {
     "name": "stdout",
     "output_type": "stream",
     "text": [
      "Некорректный тип данных для подсчёта суммы - 1\n",
      "Некорректный тип данных для подсчёта суммы - ,\n",
      "Некорректный тип данных для подсчёта суммы -  \n",
      "Некорректный тип данных для подсчёта суммы - 2\n",
      "Некорректный тип данных для подсчёта суммы - ,\n",
      "Некорректный тип данных для подсчёта суммы -  \n",
      "Некорректный тип данных для подсчёта суммы - 3\n",
      "Результат 1: 0.0\n",
      "Некорректный тип данных для подсчёта суммы - Строка\n",
      "Некорректный тип данных для подсчёта суммы - Ещё Строка\n",
      "Результат 2: 1.0\n",
      "В numbers записан некорректный тип данных\n",
      "Результат 3: None\n",
      "Результат 4: 26.5\n"
     ]
    }
   ],
   "source": [
    "print(f'Результат 1: {calculate_average(\"1, 2, 3\")}') # Строка перебирается, но каждый символ - строковый тип\n",
    "\n",
    "print(f'Результат 2: {calculate_average([1, \"Строка\", 3, \"Ещё Строка\"])}') # Учитываются только 1 и 3\n",
    "\n",
    "print(f'Результат 3: {calculate_average(567)}') # Передана не коллекция\n",
    "\n",
    "print(f'Результат 4: {calculate_average([42, 15, 36, 13])}') # Всё должно работать"
   ]
  }
 ],
 "metadata": {
  "kernelspec": {
   "display_name": "Python 3",
   "language": "python",
   "name": "python3"
  },
  "language_info": {
   "codemirror_mode": {
    "name": "ipython",
    "version": 3
   },
   "file_extension": ".py",
   "mimetype": "text/x-python",
   "name": "python",
   "nbconvert_exporter": "python",
   "pygments_lexer": "ipython3",
   "version": "3.9.10"
  }
 },
 "nbformat": 4,
 "nbformat_minor": 2
}
