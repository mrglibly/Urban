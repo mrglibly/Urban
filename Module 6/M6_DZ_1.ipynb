{
 "cells": [
  {
   "cell_type": "code",
   "execution_count": 2,
   "metadata": {},
   "outputs": [
    {
     "name": "stdout",
     "output_type": "stream",
     "text": [
      "True\n",
      "False\n",
      "Волк с Уолл-Стрит не стал есть Цветик семицветик\n",
      "Хатико съел Заводной апельсин\n",
      "False\n",
      "True\n"
     ]
    }
   ],
   "source": [
    "class Animal:\n",
    "    def __init__(self, name):\n",
    "        self.name = name\n",
    "        self.alive = True\n",
    "        self.fed = False\n",
    "\n",
    "    def eat(self, food):\n",
    "        self.food = food\n",
    "        if food.eatable == True:\n",
    "            print(f'{self.name} съел {food.name}')\n",
    "            self.fed = True\n",
    "        else:\n",
    "            print(f'{self.name} не стал есть {food.name}')\n",
    "            self.alive =  False\n",
    "\n",
    "\n",
    "class Plant:\n",
    "    def __init__(self, name):\n",
    "        self.name = name\n",
    "    \n",
    "class Predator(Animal):\n",
    "    pass\n",
    "\n",
    "class Mammal(Animal):\n",
    "    pass\n",
    "\n",
    "class Flower(Plant):\n",
    "    eatable = False\n",
    "\n",
    "class Fruit(Plant):\n",
    "    eatable = True\n",
    "\n",
    "# генерируем экземпляры классов...\n",
    "a1 = Predator('Волк с Уолл-Стрит')\n",
    "a2 = Mammal('Хатико')\n",
    "\n",
    "p1 = Flower('Цветик семицветик')\n",
    "p2 = Fruit('Заводной апельсин')\n",
    "\n",
    "print(a1.alive)\n",
    "print(a2.fed)\n",
    "a1.eat(p1)\n",
    "a2.eat(p2)\n",
    "print(a1.alive)\n",
    "print(a2.fed)"
   ]
  }
 ],
 "metadata": {
  "kernelspec": {
   "display_name": "Python 3",
   "language": "python",
   "name": "python3"
  },
  "language_info": {
   "codemirror_mode": {
    "name": "ipython",
    "version": 3
   },
   "file_extension": ".py",
   "mimetype": "text/x-python",
   "name": "python",
   "nbconvert_exporter": "python",
   "pygments_lexer": "ipython3",
   "version": "3.9.10"
  }
 },
 "nbformat": 4,
 "nbformat_minor": 2
}
