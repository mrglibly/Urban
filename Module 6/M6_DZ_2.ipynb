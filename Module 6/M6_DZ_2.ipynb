{
 "cells": [
  {
   "cell_type": "code",
   "execution_count": 92,
   "metadata": {},
   "outputs": [],
   "source": [
    "class Vehicle:\n",
    "    \n",
    "    def __init__(self, owner: str, __model: str, __engine_power: int, __color: str,\n",
    "                 __COLOR_VARIANTS = ['blue', 'red', 'green', 'black', 'white']):\n",
    "        self.owner = owner\n",
    "        self.__model = __model\n",
    "        self.__engine_power = __engine_power\n",
    "        self.__color = __color\n",
    "        self.__COLOR_VARIANTS = __COLOR_VARIANTS\n",
    "\n",
    "    def get_model(self):\n",
    "        print(f'Модель {self.__model}.')\n",
    "\n",
    "    def get_horsepower(self):\n",
    "        print(f\"Мощность двигателя: {self.__engine_power}\")\n",
    "    \n",
    "    def get_color(self):\n",
    "        print(f\"Цвет: {self.__color}\")\n",
    "\n",
    "    def print_info (self):\n",
    "        print(f'Модель {self.__model}.'), \n",
    "        print(f\"Мощность двигателя: {self.__engine_power}\"), \n",
    "        print(f\"Цвет: {self.__color}\"), \n",
    "        print(f\"Владелец: {self.owner}\")\n",
    "        \n",
    "    def set_color(self, new_color):\n",
    "        if new_color.lower() in self.__COLOR_VARIANTS:\n",
    "            self.__color = new_color\n",
    "        else:\n",
    "            print(f'Hельзя сменить цвет на {new_color}!\"')\n",
    "            \n",
    "    \n",
    "class Sedan(Vehicle):\n",
    "    __PASSENGERS_LIMIT = 5\n",
    "\n",
    "\n",
    "# определим экземпляр класса...\n",
    "vehicle1 = Sedan('Fedos', 'Toyota Mark II', 500, 'blue')\n",
    "\n",
    "# Изначальные свойства\n",
    "vehicle1.print_info()\n",
    "\n",
    "# Меняем свойства (в т.ч. вызывая методы)\n",
    "vehicle1.set_color('Pink')\n",
    "vehicle1.set_color('BLACK')\n",
    "vehicle1.owner = 'Vasyok'\n",
    "\n",
    "# Проверяем что поменялось\n",
    "vehicle1.print_info()"
   ]
  }
 ],
 "metadata": {
  "kernelspec": {
   "display_name": "Python 3",
   "language": "python",
   "name": "python3"
  },
  "language_info": {
   "codemirror_mode": {
    "name": "ipython",
    "version": 3
   },
   "file_extension": ".py",
   "mimetype": "text/x-python",
   "name": "python",
   "nbconvert_exporter": "python",
   "pygments_lexer": "ipython3",
   "version": "3.9.10"
  }
 },
 "nbformat": 4,
 "nbformat_minor": 2
}
